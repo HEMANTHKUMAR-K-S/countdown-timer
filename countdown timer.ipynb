{
 "cells": [
  {
   "cell_type": "code",
   "execution_count": 6,
   "id": "a1c7244c",
   "metadata": {},
   "outputs": [
    {
     "name": "stdout",
     "output_type": "stream",
     "text": [
      "enter the time to count(in seconds):5\n",
      "00:01\r"
     ]
    }
   ],
   "source": [
    "import time\n",
    "def countdown(time_sec):\n",
    "    while time_sec:\n",
    "        mins, sec=divmod(time_sec,60)\n",
    "        time_format='{:02d}:{:02d}'.format(mins,sec)\n",
    "        print(time_format,end=\"\\r\")\n",
    "        time.sleep(1)\n",
    "        time_sec-=1\n",
    "try:\n",
    "    countdown_time=int(input(\"enter the time to count(in seconds):\"))\n",
    "    countdown(countdown_time)\n",
    "except ValueError:\n",
    "    print(\"invalid input\")"
   ]
  },
  {
   "cell_type": "code",
   "execution_count": null,
   "id": "0be7272d",
   "metadata": {},
   "outputs": [],
   "source": []
  }
 ],
 "metadata": {
  "kernelspec": {
   "display_name": "Python 3 (ipykernel)",
   "language": "python",
   "name": "python3"
  },
  "language_info": {
   "codemirror_mode": {
    "name": "ipython",
    "version": 3
   },
   "file_extension": ".py",
   "mimetype": "text/x-python",
   "name": "python",
   "nbconvert_exporter": "python",
   "pygments_lexer": "ipython3",
   "version": "3.11.5"
  }
 },
 "nbformat": 4,
 "nbformat_minor": 5
}
